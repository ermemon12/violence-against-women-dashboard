{
 "cells": [
  {
   "cell_type": "code",
   "execution_count": 1,
   "id": "12293638-a7c2-44fb-9d13-9d85838ee4de",
   "metadata": {},
   "outputs": [],
   "source": [
    "import pandas as pd\n"
   ]
  },
  {
   "cell_type": "code",
   "execution_count": 2,
   "id": "9ae59145-74ff-4b01-a374-fce8d637527f",
   "metadata": {},
   "outputs": [
    {
     "data": {
      "text/html": [
       "<div>\n",
       "<style scoped>\n",
       "    .dataframe tbody tr th:only-of-type {\n",
       "        vertical-align: middle;\n",
       "    }\n",
       "\n",
       "    .dataframe tbody tr th {\n",
       "        vertical-align: top;\n",
       "    }\n",
       "\n",
       "    .dataframe thead th {\n",
       "        text-align: right;\n",
       "    }\n",
       "</style>\n",
       "<table border=\"1\" class=\"dataframe\">\n",
       "  <thead>\n",
       "    <tr style=\"text-align: right;\">\n",
       "      <th></th>\n",
       "      <th>SL. No</th>\n",
       "      <th>Age</th>\n",
       "      <th>Education</th>\n",
       "      <th>Employment</th>\n",
       "      <th>Income</th>\n",
       "      <th>Marital status</th>\n",
       "      <th>Violence</th>\n",
       "    </tr>\n",
       "  </thead>\n",
       "  <tbody>\n",
       "    <tr>\n",
       "      <th>0</th>\n",
       "      <td>1</td>\n",
       "      <td>30</td>\n",
       "      <td>secondary</td>\n",
       "      <td>unemployed</td>\n",
       "      <td>0</td>\n",
       "      <td>married</td>\n",
       "      <td>yes</td>\n",
       "    </tr>\n",
       "    <tr>\n",
       "      <th>1</th>\n",
       "      <td>2</td>\n",
       "      <td>47</td>\n",
       "      <td>tertiary</td>\n",
       "      <td>unemployed</td>\n",
       "      <td>0</td>\n",
       "      <td>married</td>\n",
       "      <td>no</td>\n",
       "    </tr>\n",
       "    <tr>\n",
       "      <th>2</th>\n",
       "      <td>3</td>\n",
       "      <td>24</td>\n",
       "      <td>tertiary</td>\n",
       "      <td>unemployed</td>\n",
       "      <td>0</td>\n",
       "      <td>unmarred</td>\n",
       "      <td>no</td>\n",
       "    </tr>\n",
       "    <tr>\n",
       "      <th>3</th>\n",
       "      <td>4</td>\n",
       "      <td>22</td>\n",
       "      <td>tertiary</td>\n",
       "      <td>unemployed</td>\n",
       "      <td>0</td>\n",
       "      <td>unmarred</td>\n",
       "      <td>no</td>\n",
       "    </tr>\n",
       "    <tr>\n",
       "      <th>4</th>\n",
       "      <td>5</td>\n",
       "      <td>50</td>\n",
       "      <td>primary</td>\n",
       "      <td>unemployed</td>\n",
       "      <td>0</td>\n",
       "      <td>married</td>\n",
       "      <td>yes</td>\n",
       "    </tr>\n",
       "  </tbody>\n",
       "</table>\n",
       "</div>"
      ],
      "text/plain": [
       "   SL. No  Age Education  Employment   Income Marital status  Violence \n",
       "0       1   30  secondary  unemployed       0         married       yes\n",
       "1       2   47   tertiary  unemployed       0         married        no\n",
       "2       3   24   tertiary  unemployed       0        unmarred        no\n",
       "3       4   22   tertiary  unemployed       0        unmarred        no\n",
       "4       5   50    primary  unemployed       0         married       yes"
      ]
     },
     "execution_count": 2,
     "metadata": {},
     "output_type": "execute_result"
    }
   ],
   "source": [
    "df = pd.read_csv(\"Downloads/archive/Domestic violence.csv\")  # make sure this file is in your working directory\n",
    "df.head()\n"
   ]
  },
  {
   "cell_type": "code",
   "execution_count": 3,
   "id": "fe7a1bbc-aef0-4859-8568-0db4ceedf710",
   "metadata": {},
   "outputs": [],
   "source": [
    "# Clean column names: strip spaces, lowercase, replace spaces with underscores\n",
    "df.columns = df.columns.str.strip().str.lower().str.replace(\" \", \"_\")\n"
   ]
  },
  {
   "cell_type": "code",
   "execution_count": 4,
   "id": "d6b1948e-d5f3-4937-9718-6c8a9f599a0a",
   "metadata": {},
   "outputs": [
    {
     "name": "stdout",
     "output_type": "stream",
     "text": [
      "['married' 'unmarred']\n"
     ]
    }
   ],
   "source": [
    "# Check unique values\n",
    "print(df['marital_status'].unique())\n"
   ]
  },
  {
   "cell_type": "code",
   "execution_count": 5,
   "id": "ddd6726f-35f6-4c6f-920d-09c19ed66d43",
   "metadata": {},
   "outputs": [],
   "source": [
    "# Fix spelling and standardize\n",
    "df['marital_status'] = df['marital_status'].str.strip().str.lower().replace({\n",
    "    'unmarred': 'unmarried'\n",
    "})\n"
   ]
  },
  {
   "cell_type": "code",
   "execution_count": 6,
   "id": "339cc637-aa66-416e-9ead-e46b17ddfb2c",
   "metadata": {},
   "outputs": [
    {
     "name": "stdout",
     "output_type": "stream",
     "text": [
      "['married' 'unmarried']\n"
     ]
    }
   ],
   "source": [
    "print(df['marital_status'].unique())"
   ]
  },
  {
   "cell_type": "code",
   "execution_count": 7,
   "id": "dd397c6b-9ee7-4723-9143-8630763babfd",
   "metadata": {},
   "outputs": [],
   "source": [
    "df['violence'] = df['violence'].str.strip().str.lower()\n",
    "df['education'] = df['education'].str.strip().str.lower()\n",
    "df['employment'] = df['employment'].str.strip().str.lower()\n"
   ]
  },
  {
   "cell_type": "code",
   "execution_count": 8,
   "id": "2f5178e5-a2be-455b-ad7d-54835446e12a",
   "metadata": {},
   "outputs": [],
   "source": [
    "df['age'] = pd.to_numeric(df['age'], errors='coerce')\n",
    "df['income'] = pd.to_numeric(df['income'], errors='coerce')\n"
   ]
  },
  {
   "cell_type": "code",
   "execution_count": 9,
   "id": "9fd16dbb-aa2d-4b72-bb58-aee7adbdeed9",
   "metadata": {},
   "outputs": [
    {
     "data": {
      "text/plain": [
       "sl._no            0\n",
       "age               0\n",
       "education         0\n",
       "employment        0\n",
       "income            0\n",
       "marital_status    0\n",
       "violence          0\n",
       "dtype: int64"
      ]
     },
     "execution_count": 9,
     "metadata": {},
     "output_type": "execute_result"
    }
   ],
   "source": [
    "df.isnull().sum()\n"
   ]
  },
  {
   "cell_type": "code",
   "execution_count": null,
   "id": "9b61ecf0-36de-45f1-a1ea-ec1e0cade813",
   "metadata": {},
   "outputs": [],
   "source": []
  }
 ],
 "metadata": {
  "kernelspec": {
   "display_name": "Python 3 (ipykernel)",
   "language": "python",
   "name": "python3"
  },
  "language_info": {
   "codemirror_mode": {
    "name": "ipython",
    "version": 3
   },
   "file_extension": ".py",
   "mimetype": "text/x-python",
   "name": "python",
   "nbconvert_exporter": "python",
   "pygments_lexer": "ipython3",
   "version": "3.12.7"
  }
 },
 "nbformat": 4,
 "nbformat_minor": 5
}
